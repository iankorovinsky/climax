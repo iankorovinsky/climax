{
 "cells": [
  {
   "cell_type": "code",
   "execution_count": 1,
   "metadata": {},
   "outputs": [],
   "source": [
    "import pandas as pd\n",
    "import matplotlib.pyplot as plt\n",
    "import numpy as np\n",
    "import json"
   ]
  },
  {
   "cell_type": "code",
   "execution_count": 2,
   "metadata": {},
   "outputs": [
    {
     "name": "stderr",
     "output_type": "stream",
     "text": [
      "C:\\Users\\kahns\\AppData\\Local\\Temp\\ipykernel_14676\\551079040.py:4: DeprecationWarning: DataFrameGroupBy.apply operated on the grouping columns. This behavior is deprecated, and in a future version of pandas the grouping columns will be excluded from the operation. Either pass `include_groups=False` to exclude the groupings or explicitly select the grouping columns after groupby to silence this warning.\n",
      "  economy_dict = economy.groupby('Code').apply(lambda x: x.set_index('Year')['GDP Per Capita'].to_dict()).to_dict()\n",
      "C:\\Users\\kahns\\AppData\\Local\\Temp\\ipykernel_14676\\551079040.py:5: DeprecationWarning: DataFrameGroupBy.apply operated on the grouping columns. This behavior is deprecated, and in a future version of pandas the grouping columns will be excluded from the operation. Either pass `include_groups=False` to exclude the groupings or explicitly select the grouping columns after groupby to silence this warning.\n",
      "  emission_dict = emission.groupby('Code').apply(lambda x: x.set_index('Year')['CO2 Emissions Per Capita'].to_dict()).to_dict()\n"
     ]
    }
   ],
   "source": [
    "economy = pd.read_csv('economy.csv').drop('Entity', axis=1)\n",
    "emission = pd.read_csv('emission.csv').drop('Entity', axis=1)\n",
    "\n",
    "economy_dict = economy.groupby('Code').apply(lambda x: x.set_index('Year')['GDP Per Capita'].to_dict()).to_dict()\n",
    "emission_dict = emission.groupby('Code').apply(lambda x: x.set_index('Year')['CO2 Emissions Per Capita'].to_dict()).to_dict()"
   ]
  },
  {
   "cell_type": "code",
   "execution_count": 3,
   "metadata": {},
   "outputs": [
    {
     "name": "stderr",
     "output_type": "stream",
     "text": [
      "C:\\Users\\kahns\\AppData\\Local\\Temp\\ipykernel_14676\\3829301716.py:24: RankWarning: Polyfit may be poorly conditioned\n",
      "  gs[country][k] = [np.polyfit(xtemp, ytemp, degree_of_polynomial).tolist(), np.corrcoef(xtemp, ytemp)[0, 1]]\n",
      "C:\\Users\\kahns\\AppData\\Local\\Temp\\ipykernel_14676\\3829301716.py:24: RankWarning: Polyfit may be poorly conditioned\n",
      "  gs[country][k] = [np.polyfit(xtemp, ytemp, degree_of_polynomial).tolist(), np.corrcoef(xtemp, ytemp)[0, 1]]\n",
      "C:\\Users\\kahns\\AppData\\Local\\Temp\\ipykernel_14676\\3829301716.py:24: RankWarning: Polyfit may be poorly conditioned\n",
      "  gs[country][k] = [np.polyfit(xtemp, ytemp, degree_of_polynomial).tolist(), np.corrcoef(xtemp, ytemp)[0, 1]]\n",
      "c:\\USERS\\KAHNS\\ANACONDA3\\ENVS\\CLIMAX\\Lib\\site-packages\\numpy\\lib\\function_base.py:2889: RuntimeWarning: Degrees of freedom <= 0 for slice\n",
      "  c = cov(x, y, rowvar, dtype=dtype)\n",
      "c:\\USERS\\KAHNS\\ANACONDA3\\ENVS\\CLIMAX\\Lib\\site-packages\\numpy\\lib\\function_base.py:2748: RuntimeWarning: divide by zero encountered in divide\n",
      "  c *= np.true_divide(1, fact)\n",
      "c:\\USERS\\KAHNS\\ANACONDA3\\ENVS\\CLIMAX\\Lib\\site-packages\\numpy\\lib\\function_base.py:2748: RuntimeWarning: invalid value encountered in multiply\n",
      "  c *= np.true_divide(1, fact)\n",
      "C:\\Users\\kahns\\AppData\\Local\\Temp\\ipykernel_14676\\3829301716.py:24: RankWarning: Polyfit may be poorly conditioned\n",
      "  gs[country][k] = [np.polyfit(xtemp, ytemp, degree_of_polynomial).tolist(), np.corrcoef(xtemp, ytemp)[0, 1]]\n",
      "C:\\Users\\kahns\\AppData\\Local\\Temp\\ipykernel_14676\\3829301716.py:24: RankWarning: Polyfit may be poorly conditioned\n",
      "  gs[country][k] = [np.polyfit(xtemp, ytemp, degree_of_polynomial).tolist(), np.corrcoef(xtemp, ytemp)[0, 1]]\n",
      "C:\\Users\\kahns\\AppData\\Local\\Temp\\ipykernel_14676\\3829301716.py:24: RankWarning: Polyfit may be poorly conditioned\n",
      "  gs[country][k] = [np.polyfit(xtemp, ytemp, degree_of_polynomial).tolist(), np.corrcoef(xtemp, ytemp)[0, 1]]\n",
      "C:\\Users\\kahns\\AppData\\Local\\Temp\\ipykernel_14676\\3829301716.py:24: RankWarning: Polyfit may be poorly conditioned\n",
      "  gs[country][k] = [np.polyfit(xtemp, ytemp, degree_of_polynomial).tolist(), np.corrcoef(xtemp, ytemp)[0, 1]]\n",
      "C:\\Users\\kahns\\AppData\\Local\\Temp\\ipykernel_14676\\3829301716.py:24: RankWarning: Polyfit may be poorly conditioned\n",
      "  gs[country][k] = [np.polyfit(xtemp, ytemp, degree_of_polynomial).tolist(), np.corrcoef(xtemp, ytemp)[0, 1]]\n",
      "C:\\Users\\kahns\\AppData\\Local\\Temp\\ipykernel_14676\\3829301716.py:24: RankWarning: Polyfit may be poorly conditioned\n",
      "  gs[country][k] = [np.polyfit(xtemp, ytemp, degree_of_polynomial).tolist(), np.corrcoef(xtemp, ytemp)[0, 1]]\n",
      "C:\\Users\\kahns\\AppData\\Local\\Temp\\ipykernel_14676\\3829301716.py:24: RankWarning: Polyfit may be poorly conditioned\n",
      "  gs[country][k] = [np.polyfit(xtemp, ytemp, degree_of_polynomial).tolist(), np.corrcoef(xtemp, ytemp)[0, 1]]\n",
      "C:\\Users\\kahns\\AppData\\Local\\Temp\\ipykernel_14676\\3829301716.py:24: RankWarning: Polyfit may be poorly conditioned\n",
      "  gs[country][k] = [np.polyfit(xtemp, ytemp, degree_of_polynomial).tolist(), np.corrcoef(xtemp, ytemp)[0, 1]]\n",
      "C:\\Users\\kahns\\AppData\\Local\\Temp\\ipykernel_14676\\3829301716.py:24: RankWarning: Polyfit may be poorly conditioned\n",
      "  gs[country][k] = [np.polyfit(xtemp, ytemp, degree_of_polynomial).tolist(), np.corrcoef(xtemp, ytemp)[0, 1]]\n",
      "C:\\Users\\kahns\\AppData\\Local\\Temp\\ipykernel_14676\\3829301716.py:24: RankWarning: Polyfit may be poorly conditioned\n",
      "  gs[country][k] = [np.polyfit(xtemp, ytemp, degree_of_polynomial).tolist(), np.corrcoef(xtemp, ytemp)[0, 1]]\n",
      "C:\\Users\\kahns\\AppData\\Local\\Temp\\ipykernel_14676\\3829301716.py:24: RankWarning: Polyfit may be poorly conditioned\n",
      "  gs[country][k] = [np.polyfit(xtemp, ytemp, degree_of_polynomial).tolist(), np.corrcoef(xtemp, ytemp)[0, 1]]\n",
      "C:\\Users\\kahns\\AppData\\Local\\Temp\\ipykernel_14676\\3829301716.py:24: RankWarning: Polyfit may be poorly conditioned\n",
      "  gs[country][k] = [np.polyfit(xtemp, ytemp, degree_of_polynomial).tolist(), np.corrcoef(xtemp, ytemp)[0, 1]]\n",
      "C:\\Users\\kahns\\AppData\\Local\\Temp\\ipykernel_14676\\3829301716.py:24: RankWarning: Polyfit may be poorly conditioned\n",
      "  gs[country][k] = [np.polyfit(xtemp, ytemp, degree_of_polynomial).tolist(), np.corrcoef(xtemp, ytemp)[0, 1]]\n",
      "C:\\Users\\kahns\\AppData\\Local\\Temp\\ipykernel_14676\\3829301716.py:24: RankWarning: Polyfit may be poorly conditioned\n",
      "  gs[country][k] = [np.polyfit(xtemp, ytemp, degree_of_polynomial).tolist(), np.corrcoef(xtemp, ytemp)[0, 1]]\n",
      "C:\\Users\\kahns\\AppData\\Local\\Temp\\ipykernel_14676\\3829301716.py:24: RankWarning: Polyfit may be poorly conditioned\n",
      "  gs[country][k] = [np.polyfit(xtemp, ytemp, degree_of_polynomial).tolist(), np.corrcoef(xtemp, ytemp)[0, 1]]\n",
      "C:\\Users\\kahns\\AppData\\Local\\Temp\\ipykernel_14676\\3829301716.py:24: RankWarning: Polyfit may be poorly conditioned\n",
      "  gs[country][k] = [np.polyfit(xtemp, ytemp, degree_of_polynomial).tolist(), np.corrcoef(xtemp, ytemp)[0, 1]]\n",
      "C:\\Users\\kahns\\AppData\\Local\\Temp\\ipykernel_14676\\3829301716.py:24: RankWarning: Polyfit may be poorly conditioned\n",
      "  gs[country][k] = [np.polyfit(xtemp, ytemp, degree_of_polynomial).tolist(), np.corrcoef(xtemp, ytemp)[0, 1]]\n",
      "C:\\Users\\kahns\\AppData\\Local\\Temp\\ipykernel_14676\\3829301716.py:24: RankWarning: Polyfit may be poorly conditioned\n",
      "  gs[country][k] = [np.polyfit(xtemp, ytemp, degree_of_polynomial).tolist(), np.corrcoef(xtemp, ytemp)[0, 1]]\n",
      "C:\\Users\\kahns\\AppData\\Local\\Temp\\ipykernel_14676\\3829301716.py:24: RankWarning: Polyfit may be poorly conditioned\n",
      "  gs[country][k] = [np.polyfit(xtemp, ytemp, degree_of_polynomial).tolist(), np.corrcoef(xtemp, ytemp)[0, 1]]\n",
      "C:\\Users\\kahns\\AppData\\Local\\Temp\\ipykernel_14676\\3829301716.py:24: RankWarning: Polyfit may be poorly conditioned\n",
      "  gs[country][k] = [np.polyfit(xtemp, ytemp, degree_of_polynomial).tolist(), np.corrcoef(xtemp, ytemp)[0, 1]]\n",
      "C:\\Users\\kahns\\AppData\\Local\\Temp\\ipykernel_14676\\3829301716.py:24: RankWarning: Polyfit may be poorly conditioned\n",
      "  gs[country][k] = [np.polyfit(xtemp, ytemp, degree_of_polynomial).tolist(), np.corrcoef(xtemp, ytemp)[0, 1]]\n",
      "C:\\Users\\kahns\\AppData\\Local\\Temp\\ipykernel_14676\\3829301716.py:24: RankWarning: Polyfit may be poorly conditioned\n",
      "  gs[country][k] = [np.polyfit(xtemp, ytemp, degree_of_polynomial).tolist(), np.corrcoef(xtemp, ytemp)[0, 1]]\n",
      "C:\\Users\\kahns\\AppData\\Local\\Temp\\ipykernel_14676\\3829301716.py:24: RankWarning: Polyfit may be poorly conditioned\n",
      "  gs[country][k] = [np.polyfit(xtemp, ytemp, degree_of_polynomial).tolist(), np.corrcoef(xtemp, ytemp)[0, 1]]\n",
      "C:\\Users\\kahns\\AppData\\Local\\Temp\\ipykernel_14676\\3829301716.py:24: RankWarning: Polyfit may be poorly conditioned\n",
      "  gs[country][k] = [np.polyfit(xtemp, ytemp, degree_of_polynomial).tolist(), np.corrcoef(xtemp, ytemp)[0, 1]]\n",
      "C:\\Users\\kahns\\AppData\\Local\\Temp\\ipykernel_14676\\3829301716.py:24: RankWarning: Polyfit may be poorly conditioned\n",
      "  gs[country][k] = [np.polyfit(xtemp, ytemp, degree_of_polynomial).tolist(), np.corrcoef(xtemp, ytemp)[0, 1]]\n"
     ]
    }
   ],
   "source": [
    "max_k = 20\n",
    "degree_of_polynomial = 3\n",
    "x1 = []\n",
    "y1 = []\n",
    "ks = []\n",
    "countries = []\n",
    "gs = {}\n",
    "\n",
    "for country in economy_dict.keys():\n",
    "    x = []\n",
    "    y = []\n",
    "    ktemp = 0\n",
    "    min_correlation = 1\n",
    "    for k in range(1, max_k + 1):\n",
    "        xtemp = []\n",
    "        ytemp = []\n",
    "        try:\n",
    "            for year in economy_dict[country].keys():\n",
    "                if year + k in emission_dict[country].keys():\n",
    "                    xtemp.append(economy_dict[country][year])\n",
    "                    ytemp.append(emission_dict[country][year + k])\n",
    "            if country not in gs.keys():\n",
    "                gs[country] = {}\n",
    "            gs[country][k] = [np.polyfit(xtemp, ytemp, degree_of_polynomial).tolist(), np.corrcoef(xtemp, ytemp)[0, 1]]\n",
    "            if (np.corrcoef(xtemp, ytemp)[0, 1] < min_correlation and len(xtemp) > 10):\n",
    "                min_correlation = np.corrcoef(xtemp, ytemp)[0, 1]\n",
    "                x = xtemp\n",
    "                y = ytemp\n",
    "                ktemp = k\n",
    "        except:\n",
    "            pass\n",
    "    x1.append(x)\n",
    "    y1.append(y)\n",
    "    ks.append(ktemp)\n",
    "    countries.append(country)"
   ]
  },
  {
   "cell_type": "code",
   "execution_count": 4,
   "metadata": {},
   "outputs": [
    {
     "name": "stdout",
     "output_type": "stream",
     "text": [
      "195 195 195 195\n"
     ]
    }
   ],
   "source": [
    "print(len(x1), len(y1), len(ks), len(countries))"
   ]
  },
  {
   "cell_type": "code",
   "execution_count": 5,
   "metadata": {},
   "outputs": [],
   "source": [
    "# fig, axes = plt.subplots(nrows=39, ncols=5, figsize=(20, 152))\n",
    "# for row in range(39):\n",
    "#     for col in range(5):\n",
    "#         axes[row, col].scatter(x1[row * 5 + col], y1[row * 5 + col])\n",
    "#         axes[row, col].set_title(f'{countries[row * 5 + col]}: k = {ks[row * 5 + col]}')\n",
    "\n",
    "# plt.tight_layout()\n",
    "\n",
    "# plt.show()"
   ]
  },
  {
   "cell_type": "code",
   "execution_count": 6,
   "metadata": {},
   "outputs": [
    {
     "name": "stderr",
     "output_type": "stream",
     "text": [
      "C:\\Users\\kahns\\AppData\\Local\\Temp\\ipykernel_14676\\2021555551.py:24: RankWarning: Polyfit may be poorly conditioned\n",
      "  fs[country][k] = [np.polyfit(xtemp, ytemp, degree_of_polynomial).tolist(), np.corrcoef(xtemp, ytemp)[0, 1]]\n",
      "C:\\Users\\kahns\\AppData\\Local\\Temp\\ipykernel_14676\\2021555551.py:24: RankWarning: Polyfit may be poorly conditioned\n",
      "  fs[country][k] = [np.polyfit(xtemp, ytemp, degree_of_polynomial).tolist(), np.corrcoef(xtemp, ytemp)[0, 1]]\n",
      "C:\\Users\\kahns\\AppData\\Local\\Temp\\ipykernel_14676\\2021555551.py:24: RankWarning: Polyfit may be poorly conditioned\n",
      "  fs[country][k] = [np.polyfit(xtemp, ytemp, degree_of_polynomial).tolist(), np.corrcoef(xtemp, ytemp)[0, 1]]\n"
     ]
    }
   ],
   "source": [
    "max_k = 20\n",
    "degree_of_polynomial = 3\n",
    "x2 = []\n",
    "y2 = []\n",
    "ks = []\n",
    "countries = []\n",
    "fs = {}\n",
    "\n",
    "for country in economy_dict.keys():\n",
    "    x = []\n",
    "    y = []\n",
    "    ktemp = 0\n",
    "    min_correlation = -1\n",
    "    for k in range(1, max_k + 1):\n",
    "        xtemp = []\n",
    "        ytemp = []\n",
    "        try:\n",
    "            for year in emission_dict[country].keys():\n",
    "                if year + k in economy_dict[country].keys():\n",
    "                    xtemp.append(emission_dict[country][year])\n",
    "                    ytemp.append(economy_dict[country][year + k])\n",
    "            if country not in fs.keys():\n",
    "                fs[country] = {}\n",
    "            fs[country][k] = [np.polyfit(xtemp, ytemp, degree_of_polynomial).tolist(), np.corrcoef(xtemp, ytemp)[0, 1]]\n",
    "            if (np.corrcoef(xtemp, ytemp)[0, 1] > min_correlation and len(xtemp) > 10):\n",
    "                min_correlation = np.corrcoef(xtemp, ytemp)[0, 1]\n",
    "                x = xtemp\n",
    "                y = ytemp\n",
    "                ktemp = k\n",
    "        except:\n",
    "            pass\n",
    "    x2.append(x)\n",
    "    y2.append(y)\n",
    "    ks.append(ktemp)\n",
    "    countries.append(country)"
   ]
  },
  {
   "cell_type": "code",
   "execution_count": 7,
   "metadata": {},
   "outputs": [],
   "source": [
    "# fig, axes = plt.subplots(nrows=39, ncols=5, figsize=(20, 152))\n",
    "# for row in range(39):\n",
    "#     for col in range(5):\n",
    "#         axes[row, col].scatter(x2[row * 5 + col], y2[row * 5 + col])\n",
    "#         axes[row, col].set_title(f'{countries[row * 5 + col]}: k = {ks[row * 5 + col]}')\n",
    "\n",
    "# plt.tight_layout()\n",
    "\n",
    "# plt.show()"
   ]
  },
  {
   "cell_type": "code",
   "execution_count": 8,
   "metadata": {},
   "outputs": [],
   "source": [
    "with open('fs.json', 'w') as f:\n",
    "    json.dump(fs, f)\n",
    "\n",
    "with open('gs.json', 'w') as g:\n",
    "    json.dump(gs, g)"
   ]
  }
 ],
 "metadata": {
  "kernelspec": {
   "display_name": "CLIMAX",
   "language": "python",
   "name": "python3"
  },
  "language_info": {
   "codemirror_mode": {
    "name": "ipython",
    "version": 3
   },
   "file_extension": ".py",
   "mimetype": "text/x-python",
   "name": "python",
   "nbconvert_exporter": "python",
   "pygments_lexer": "ipython3",
   "version": "3.11.9"
  }
 },
 "nbformat": 4,
 "nbformat_minor": 2
}
